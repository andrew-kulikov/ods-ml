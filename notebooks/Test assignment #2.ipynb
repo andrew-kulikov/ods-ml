{
 "cells": [
  {
   "cell_type": "markdown",
   "metadata": {},
   "source": [
    "<center>\n",
    "<img src=\"../../img/ods_stickers.jpg\">\n",
    "## Open Machine Learning Course\n",
    "<center>Authors: [Ilya Baryshnikov](https://www.linkedin.com/in/baryshnikov-ilya/) (ivi.ru), [Maxim Uvarov](https://www.linkedin.com/in/maxis42/) (Teradata), and [Yury Kashnitsky](https://www.linkedin.com/in/festline/) (Mail.Ru Group) <br>\n",
    "Translated and edited by [Inga Kaydanova](https://www.linkedin.com/in/inga-kaidanova-a92398b1/), [Egor Polusmak](https://www.linkedin.com/in/egor-polusmak/), [Anastasia Manokhina](https://www.linkedin.com/in/anastasiamanokhina/), and [Yuanyuan Pao](https://www.linkedin.com/in/yuanyuanpao/) \n",
    "\n",
    "All content is distributed under the [Creative Commons CC BY-NC-SA 4.0](https://creativecommons.org/licenses/by-nc-sa/4.0/) license."
   ]
  },
  {
   "cell_type": "markdown",
   "metadata": {
    "collapsed": true
   },
   "source": [
    "# <center>Assignment #2 (demo)\n",
    "## <center>Analyzing cardiovascular disease data "
   ]
  },
  {
   "cell_type": "markdown",
   "metadata": {},
   "source": [
    "In this assignment, you will answer questions about a dataset on cardiovascular disease. You do not need to download the data: it is already in the repository. There are some Tasks that will require you to write code. Complete them and then answer the questions in the [form](https://docs.google.com/forms/d/13cE_tSIb6hsScQvvWUJeu1MEHE5L6vnxQUbDYpXsf24).\n",
    "\n",
    "#### Problem\n",
    "\n",
    "Predict the presence or absence of cardiovascular disease (CVD) using the patient examination results.\n",
    "\n",
    "#### Data description\n",
    "\n",
    "There are 3 types of input features:\n",
    "\n",
    "- *Objective*: factual information;\n",
    "- *Examination*: results of medical examination;\n",
    "- *Subjective*: information given by the patient.\n",
    "\n",
    "| Feature | Variable Type | Variable      | Value Type |\n",
    "|---------|--------------|---------------|------------|\n",
    "| Age | Objective Feature | age | int (days) |\n",
    "| Height | Objective Feature | height | int (cm) |\n",
    "| Weight | Objective Feature | weight | float (kg) |\n",
    "| Gender | Objective Feature | gender | categorical code |\n",
    "| Systolic blood pressure | Examination Feature | ap_hi | int |\n",
    "| Diastolic blood pressure | Examination Feature | ap_lo | int |\n",
    "| Cholesterol | Examination Feature | cholesterol | 1: normal, 2: above normal, 3: well above normal |\n",
    "| Glucose | Examination Feature | gluc | 1: normal, 2: above normal, 3: well above normal |\n",
    "| Smoking | Subjective Feature | smoke | binary |\n",
    "| Alcohol intake | Subjective Feature | alco | binary |\n",
    "| Physical activity | Subjective Feature | active | binary |\n",
    "| Presence or absence of cardiovascular disease | Target Variable | cardio | binary |\n",
    "\n",
    "All of the dataset values were collected at the moment of medical examination."
   ]
  },
  {
   "cell_type": "markdown",
   "metadata": {},
   "source": [
    "Let's get to know our data by performing a preliminary data analysis.\n",
    "\n",
    "#  Part 1. Preliminary data analysis\n",
    "\n",
    "First, we will initialize the environment:"
   ]
  },
  {
   "cell_type": "code",
   "execution_count": 170,
   "metadata": {},
   "outputs": [],
   "source": [
    "# Import all required modules\n",
    "import pandas as pd\n",
    "import numpy as np\n",
    "\n",
    "# Disable warnings\n",
    "import warnings\n",
    "warnings.filterwarnings(\"ignore\")\n",
    "\n",
    "# Import plotting modules\n",
    "import seaborn as sns\n",
    "sns.set()\n",
    "import matplotlib\n",
    "import matplotlib.pyplot as plt\n",
    "import matplotlib.ticker\n",
    "%matplotlib inline"
   ]
  },
  {
   "cell_type": "markdown",
   "metadata": {},
   "source": [
    "You will use the `seaborn` library for visual analysis, so let's set that up too:"
   ]
  },
  {
   "cell_type": "code",
   "execution_count": 171,
   "metadata": {},
   "outputs": [],
   "source": [
    "# Tune the visual settings for figures in `seaborn`\n",
    "sns.set_context(\n",
    "    \"notebook\", \n",
    "    font_scale=1.5,       \n",
    "    rc={ \n",
    "        \"figure.figsize\": (11, 8), \n",
    "        \"axes.titlesize\": 18 \n",
    "    }\n",
    ")\n",
    "\n",
    "from matplotlib import rcParams\n",
    "rcParams['figure.figsize'] = 11, 8"
   ]
  },
  {
   "cell_type": "markdown",
   "metadata": {},
   "source": [
    "To make it simple, we will work only with the training part of the dataset:"
   ]
  },
  {
   "cell_type": "code",
   "execution_count": 172,
   "metadata": {},
   "outputs": [
    {
     "name": "stdout",
     "output_type": "stream",
     "text": [
      "Dataset size:  (70000, 13)\n"
     ]
    },
    {
     "data": {
      "text/html": [
       "<div>\n",
       "<style scoped>\n",
       "    .dataframe tbody tr th:only-of-type {\n",
       "        vertical-align: middle;\n",
       "    }\n",
       "\n",
       "    .dataframe tbody tr th {\n",
       "        vertical-align: top;\n",
       "    }\n",
       "\n",
       "    .dataframe thead th {\n",
       "        text-align: right;\n",
       "    }\n",
       "</style>\n",
       "<table border=\"1\" class=\"dataframe\">\n",
       "  <thead>\n",
       "    <tr style=\"text-align: right;\">\n",
       "      <th></th>\n",
       "      <th>id</th>\n",
       "      <th>age</th>\n",
       "      <th>gender</th>\n",
       "      <th>height</th>\n",
       "      <th>weight</th>\n",
       "      <th>ap_hi</th>\n",
       "      <th>ap_lo</th>\n",
       "      <th>cholesterol</th>\n",
       "      <th>gluc</th>\n",
       "      <th>smoke</th>\n",
       "      <th>alco</th>\n",
       "      <th>active</th>\n",
       "      <th>cardio</th>\n",
       "    </tr>\n",
       "  </thead>\n",
       "  <tbody>\n",
       "    <tr>\n",
       "      <th>0</th>\n",
       "      <td>0</td>\n",
       "      <td>18393</td>\n",
       "      <td>2</td>\n",
       "      <td>168</td>\n",
       "      <td>62.0</td>\n",
       "      <td>110</td>\n",
       "      <td>80</td>\n",
       "      <td>1</td>\n",
       "      <td>1</td>\n",
       "      <td>0</td>\n",
       "      <td>0</td>\n",
       "      <td>1</td>\n",
       "      <td>0</td>\n",
       "    </tr>\n",
       "    <tr>\n",
       "      <th>1</th>\n",
       "      <td>1</td>\n",
       "      <td>20228</td>\n",
       "      <td>1</td>\n",
       "      <td>156</td>\n",
       "      <td>85.0</td>\n",
       "      <td>140</td>\n",
       "      <td>90</td>\n",
       "      <td>3</td>\n",
       "      <td>1</td>\n",
       "      <td>0</td>\n",
       "      <td>0</td>\n",
       "      <td>1</td>\n",
       "      <td>1</td>\n",
       "    </tr>\n",
       "    <tr>\n",
       "      <th>2</th>\n",
       "      <td>2</td>\n",
       "      <td>18857</td>\n",
       "      <td>1</td>\n",
       "      <td>165</td>\n",
       "      <td>64.0</td>\n",
       "      <td>130</td>\n",
       "      <td>70</td>\n",
       "      <td>3</td>\n",
       "      <td>1</td>\n",
       "      <td>0</td>\n",
       "      <td>0</td>\n",
       "      <td>0</td>\n",
       "      <td>1</td>\n",
       "    </tr>\n",
       "    <tr>\n",
       "      <th>3</th>\n",
       "      <td>3</td>\n",
       "      <td>17623</td>\n",
       "      <td>2</td>\n",
       "      <td>169</td>\n",
       "      <td>82.0</td>\n",
       "      <td>150</td>\n",
       "      <td>100</td>\n",
       "      <td>1</td>\n",
       "      <td>1</td>\n",
       "      <td>0</td>\n",
       "      <td>0</td>\n",
       "      <td>1</td>\n",
       "      <td>1</td>\n",
       "    </tr>\n",
       "    <tr>\n",
       "      <th>4</th>\n",
       "      <td>4</td>\n",
       "      <td>17474</td>\n",
       "      <td>1</td>\n",
       "      <td>156</td>\n",
       "      <td>56.0</td>\n",
       "      <td>100</td>\n",
       "      <td>60</td>\n",
       "      <td>1</td>\n",
       "      <td>1</td>\n",
       "      <td>0</td>\n",
       "      <td>0</td>\n",
       "      <td>0</td>\n",
       "      <td>0</td>\n",
       "    </tr>\n",
       "  </tbody>\n",
       "</table>\n",
       "</div>"
      ],
      "text/plain": [
       "   id    age  gender  height  weight  ap_hi  ap_lo  cholesterol  gluc  smoke  \\\n",
       "0   0  18393       2     168    62.0    110     80            1     1      0   \n",
       "1   1  20228       1     156    85.0    140     90            3     1      0   \n",
       "2   2  18857       1     165    64.0    130     70            3     1      0   \n",
       "3   3  17623       2     169    82.0    150    100            1     1      0   \n",
       "4   4  17474       1     156    56.0    100     60            1     1      0   \n",
       "\n",
       "   alco  active  cardio  \n",
       "0     0       1       0  \n",
       "1     0       1       1  \n",
       "2     0       0       1  \n",
       "3     0       1       1  \n",
       "4     0       0       0  "
      ]
     },
     "execution_count": 172,
     "metadata": {},
     "output_type": "execute_result"
    }
   ],
   "source": [
    "df = pd.read_csv('../data/mlbootcamp5_train.csv.zip')\n",
    "print('Dataset size: ', df.shape)\n",
    "df.head()"
   ]
  },
  {
   "cell_type": "markdown",
   "metadata": {},
   "source": [
    "It would be instructive to peek into the values of our variables.\n",
    " \n",
    "Let's convert the data into *long* format and depict the value counts of the categorical features using [`factorplot()`](https://seaborn.pydata.org/generated/seaborn.factorplot.html)."
   ]
  },
  {
   "cell_type": "code",
   "execution_count": 173,
   "metadata": {},
   "outputs": [
    {
     "name": "stdout",
     "output_type": "stream",
     "text": [
      "       variable  value  count\n",
      "0        active      0  13739\n",
      "1        active      1  56261\n",
      "2          alco      0  66236\n",
      "3          alco      1   3764\n",
      "4        cardio      0  35021\n",
      "5        cardio      1  34979\n",
      "6   cholesterol      1  52385\n",
      "7   cholesterol      2   9549\n",
      "8   cholesterol      3   8066\n",
      "9        gender      1  45530\n",
      "10       gender      2  24470\n",
      "11         gluc      1  59479\n",
      "12         gluc      2   5190\n",
      "13         gluc      3   5331\n",
      "14        smoke      0  63831\n",
      "15        smoke      1   6169\n"
     ]
    },
    {
     "data": {
      "image/png": "[encoded data removed]",
      "text/plain": [
       "<Figure size 926.375x864 with 1 Axes>"
      ]
     },
     "metadata": {},
     "output_type": "display_data"
    }
   ],
   "source": [
    "df_uniques = pd.melt(frame=df, value_vars=['gender','cholesterol', \n",
    "                                           'gluc', 'smoke', 'alco', \n",
    "                                           'active', 'cardio'])\n",
    "\n",
    "df_uniques = pd.DataFrame(df_uniques.groupby(['variable', \n",
    "                                              'value'])['value'].count()) \\\n",
    "    .sort_index(level=[0, 1]) \\\n",
    "    .rename(columns={'value': 'count'}) \\\n",
    "    .reset_index()\n",
    "\n",
    "print(df_uniques)\n",
    "\n",
    "sns.factorplot(x='variable', y='count', hue='value', \n",
    "               data=df_uniques, kind='bar', size=12);"
   ]
  },
  {
   "cell_type": "markdown",
   "metadata": {
    "collapsed": true
   },
   "source": [
    "We can see that the target classes are balanced. That's great!\n",
    "\n",
    "Let's split the dataset by target values. Can you already spot the most significant feature by just looking at the plot?"
   ]
  },
  {
   "cell_type": "code",
   "execution_count": 174,
   "metadata": {},
   "outputs": [
    {
     "data": {
      "image/png": "[encoded data removed]",
      "text/plain": [
       "<Figure size 1358.38x648 with 2 Axes>"
      ]
     },
     "metadata": {},
     "output_type": "display_data"
    }
   ],
   "source": [
    "df_uniques = pd.melt(frame=df, value_vars=['gender','cholesterol', \n",
    "                                           'gluc', 'smoke', 'alco', \n",
    "                                           'active'], \n",
    "                     id_vars=['cardio'])\n",
    "\n",
    "df_uniques = pd.DataFrame(df_uniques.groupby(['variable', 'value', \n",
    "                                              'cardio'])['value'].count()) \\\n",
    "    .sort_index(level=[0, 1]) \\\n",
    "    .rename(columns={'value': 'count'}) \\\n",
    "    .reset_index()\n",
    "\n",
    "sns.factorplot(x='variable', y='count', hue='value', \n",
    "               col='cardio', data=df_uniques, kind='bar', size=9);"
   ]
  },
  {
   "cell_type": "markdown",
   "metadata": {},
   "source": [
    "You can see that the distribution of cholesterol and glucose levels great differs by the value of the target variable. Is this a coincidence?\n",
    "\n",
    "Now, let's calculate some statistics for the feature unique values:"
   ]
  },
  {
   "cell_type": "code",
   "execution_count": 175,
   "metadata": {},
   "outputs": [
    {
     "name": "stdout",
     "output_type": "stream",
     "text": [
      "id\n",
      "70000\n",
      "----------\n",
      "age\n",
      "8076\n",
      "----------\n",
      "gender\n",
      "2 [(1, 45530), (2, 24470)]\n",
      "----------\n",
      "height\n",
      "109\n",
      "----------\n",
      "weight\n",
      "287\n",
      "----------\n",
      "ap_hi\n",
      "153\n",
      "----------\n",
      "ap_lo\n",
      "157\n",
      "----------\n",
      "cholesterol\n",
      "3 [(1, 52385), (2, 9549), (3, 8066)]\n",
      "----------\n",
      "gluc\n",
      "3 [(1, 59479), (2, 5190), (3, 5331)]\n",
      "----------\n",
      "smoke\n",
      "2 [(0, 63831), (1, 6169)]\n",
      "----------\n",
      "alco\n",
      "2 [(0, 66236), (1, 3764)]\n",
      "----------\n",
      "active\n",
      "2 [(0, 13739), (1, 56261)]\n",
      "----------\n",
      "cardio\n",
      "2 [(0, 35021), (1, 34979)]\n",
      "----------\n"
     ]
    }
   ],
   "source": [
    "for c in df.columns:\n",
    "    n = df[c].nunique()\n",
    "    print(c)\n",
    "    if n <= 3:\n",
    "        print(n, sorted(df[c].value_counts().to_dict().items()))\n",
    "    else:\n",
    "        print(n)\n",
    "    print(10 * '-')"
   ]
  },
  {
   "cell_type": "markdown",
   "metadata": {},
   "source": [
    "In the end, we have:\n",
    "- 5 numerical features (excluding *id*);\n",
    "- 7 categorical features;\n",
    "- 70000 records in total."
   ]
  },
  {
   "cell_type": "markdown",
   "metadata": {},
   "source": [
    "## 1.1. Basic observations"
   ]
  },
  {
   "cell_type": "markdown",
   "metadata": {},
   "source": [
    "**Question 1.1. (1 point). How many men and women are present in this dataset? Values of the `gender` feature were not given (whether \"1\" stands for women or for men) – figure this out by looking analyzing height, making the assumption that men are taller on average. **\n",
    "1. 45530 women and 24470 men\n",
    "2. 45530 men and 24470 women\n",
    "3. 45470 women and 24530 men\n",
    "4. 45470 men and 24530 women"
   ]
  },
  {
   "cell_type": "code",
   "execution_count": 176,
   "metadata": {},
   "outputs": [
    {
     "name": "stdout",
     "output_type": "stream",
     "text": [
      "161.35561168460356\n",
      "169.94789538210054\n"
     ]
    }
   ],
   "source": [
    "#plt.scatter(df['gender'], df['height'])\n",
    "print(np.mean(df[df['gender'] == 1]['height']))\n",
    "print(np.mean(df[df['gender'] == 2]['height']))\n",
    "#1 - woman, 2 - man"
   ]
  },
  {
   "cell_type": "markdown",
   "metadata": {},
   "source": [
    "**Question 1.2. (1 point). Which gender more often reports consuming alcohol - men or women?**\n",
    "1. women\n",
    "2. men"
   ]
  },
  {
   "cell_type": "code",
   "execution_count": 177,
   "metadata": {},
   "outputs": [
    {
     "data": {
      "text/html": [
       "<div>\n",
       "<style scoped>\n",
       "    .dataframe tbody tr th:only-of-type {\n",
       "        vertical-align: middle;\n",
       "    }\n",
       "\n",
       "    .dataframe tbody tr th {\n",
       "        vertical-align: top;\n",
       "    }\n",
       "\n",
       "    .dataframe thead th {\n",
       "        text-align: right;\n",
       "    }\n",
       "</style>\n",
       "<table border=\"1\" class=\"dataframe\">\n",
       "  <thead>\n",
       "    <tr style=\"text-align: right;\">\n",
       "      <th></th>\n",
       "      <th>gender</th>\n",
       "      <th>alco</th>\n",
       "      <th>id</th>\n",
       "    </tr>\n",
       "  </thead>\n",
       "  <tbody>\n",
       "    <tr>\n",
       "      <th>1</th>\n",
       "      <td>1</td>\n",
       "      <td>1</td>\n",
       "      <td>1161</td>\n",
       "    </tr>\n",
       "    <tr>\n",
       "      <th>3</th>\n",
       "      <td>2</td>\n",
       "      <td>1</td>\n",
       "      <td>2603</td>\n",
       "    </tr>\n",
       "  </tbody>\n",
       "</table>\n",
       "</div>"
      ],
      "text/plain": [
       "   gender  alco    id\n",
       "1       1     1  1161\n",
       "3       2     1  2603"
      ]
     },
     "execution_count": 177,
     "metadata": {},
     "output_type": "execute_result"
    }
   ],
   "source": [
    "df1 = df[['gender', 'alco', 'id']].groupby(['gender', 'alco']).count().reset_index()\n",
    "df1[df1['alco'] == 1]"
   ]
  },
  {
   "cell_type": "markdown",
   "metadata": {},
   "source": [
    "**Question 1.3. (1 point). What is the difference between the percentages of smokers among men and women (rounded)?**\n",
    "1. 4\n",
    "2. 16\n",
    "3. 20\n",
    "4. 24"
   ]
  },
  {
   "cell_type": "code",
   "execution_count": 178,
   "metadata": {},
   "outputs": [
    {
     "data": {
      "text/plain": [
       "20"
      ]
     },
     "execution_count": 178,
     "metadata": {},
     "output_type": "execute_result"
    }
   ],
   "source": [
    "df_smoke = df[['smoke', 'gender', 'id']].groupby(['gender', 'smoke']).count().reset_index()\n",
    "\n",
    "smoke_man = df_smoke[df_smoke['gender'] == 2]\n",
    "smoke_man_cnt = smoke_man[smoke_man['smoke'] == 1]['id']\n",
    "smoke_man_persentage = int(smoke_man_cnt / smoke_man['id'].sum() * 100)\n",
    "\n",
    "smoke_woman = df_smoke[df_smoke['gender'] == 1]\n",
    "smoke_woman_cnt = smoke_woman[smoke_woman['smoke'] == 1]['id']\n",
    "smoke_woman_persentage = int(smoke_woman_cnt / smoke_woman['id'].sum() * 100)\n",
    "\n",
    "smoke_man_persentage - smoke_woman_persentage"
   ]
  },
  {
   "cell_type": "markdown",
   "metadata": {},
   "source": [
    "**Question 1.4. (1 point). What is the difference between median values of age for smokers and non-smokers (in months, rounded)? You'll need to figure out the units of feature `age` in this dataset.**\n",
    "\n",
    "1. 5\n",
    "2. 10\n",
    "3. 15\n",
    "4. 20"
   ]
  },
  {
   "cell_type": "code",
   "execution_count": 179,
   "metadata": {},
   "outputs": [
    {
     "data": {
      "text/plain": [
       "19.9"
      ]
     },
     "execution_count": 179,
     "metadata": {},
     "output_type": "execute_result"
    }
   ],
   "source": [
    "abs(df[df['smoke'] == 1]['age'].median() - df[df['smoke'] == 0]['age'].median()) / 30"
   ]
  },
  {
   "cell_type": "markdown",
   "metadata": {},
   "source": [
    "## 1.2. Risk maps\n",
    "### Task:"
   ]
  },
  {
   "cell_type": "markdown",
   "metadata": {},
   "source": [
    "On the website for the European Society of Cardiology, a [SCORE scale](https://www.escardio.org/Education/Practice-Tools/CVD-prevention-toolbox/SCORE-Risk-Charts) is provided. It is used for calculating the risk of death from a cardiovascular decease in the next 10 years. Here it is:\n",
    "<img src='../../img/SCORE_CVD_eng.png' width=70%>\n",
    "\n",
    "Let's take a look at the upper-right rectangle, which shows a subset of smoking men aged from 60 to 65. (It's not obvious, but the values in the figure represent the upper bound).\n",
    "\n",
    "We see the value 9 in the lower-left corner of the rectangle and 47 in the upper-right. This means that, for people in this gender-age group whose systolic pressure is less than 120, the risk of a CVD is estimated to be 5 times lower than for those with the pressure in the interval [160,180).\n",
    "\n",
    "Let's calculate that same ratio using our data.\n",
    "\n",
    "Clarifications:\n",
    "- Calculate ``age_years`` feature – round age to the nearest number of years. For this task, select only the people of age 60 to 64, inclusive.\n",
    "- Cholesterol level categories differ between the figure and our dataset. The conversion for the ``cholesterol`` feature is as follows: 4 mmol/l $\\rightarrow$ 1, 5-7 mmol/l $\\rightarrow$ 2, 8 mmol/l $\\rightarrow$ 3."
   ]
  },
  {
   "cell_type": "code",
   "execution_count": 180,
   "metadata": {},
   "outputs": [],
   "source": [
    "# You code here"
   ]
  },
  {
   "cell_type": "markdown",
   "metadata": {},
   "source": [
    "**Question 1.5. (2 points). Calculate the fraction of the people with CVD for the two segments described above. What is the ratio of these two fractions?**\n",
    "\n",
    "1. 1\n",
    "2. 2\n",
    "3. 3\n",
    "4. 4"
   ]
  },
  {
   "cell_type": "markdown",
   "metadata": {},
   "source": [
    "## 1.3. Analyzing BMI\n",
    "### Task:"
   ]
  },
  {
   "cell_type": "markdown",
   "metadata": {},
   "source": [
    "Create a new feature – BMI ([Body Mass Index](https://en.wikipedia.org/wiki/Body_mass_index)). To do this, divide weight in kilogramms by the square of the height in meters. Normal BMI values are said to be from 18.5 to 25. "
   ]
  },
  {
   "cell_type": "code",
   "execution_count": 181,
   "metadata": {},
   "outputs": [
    {
     "data": {
      "text/html": [
       "<div>\n",
       "<style scoped>\n",
       "    .dataframe tbody tr th:only-of-type {\n",
       "        vertical-align: middle;\n",
       "    }\n",
       "\n",
       "    .dataframe tbody tr th {\n",
       "        vertical-align: top;\n",
       "    }\n",
       "\n",
       "    .dataframe thead th {\n",
       "        text-align: right;\n",
       "    }\n",
       "</style>\n",
       "<table border=\"1\" class=\"dataframe\">\n",
       "  <thead>\n",
       "    <tr style=\"text-align: right;\">\n",
       "      <th></th>\n",
       "      <th>id</th>\n",
       "      <th>age</th>\n",
       "      <th>gender</th>\n",
       "      <th>height</th>\n",
       "      <th>weight</th>\n",
       "      <th>ap_hi</th>\n",
       "      <th>ap_lo</th>\n",
       "      <th>cholesterol</th>\n",
       "      <th>gluc</th>\n",
       "      <th>smoke</th>\n",
       "      <th>alco</th>\n",
       "      <th>active</th>\n",
       "      <th>cardio</th>\n",
       "      <th>bmi</th>\n",
       "    </tr>\n",
       "  </thead>\n",
       "  <tbody>\n",
       "    <tr>\n",
       "      <th>0</th>\n",
       "      <td>0</td>\n",
       "      <td>18393</td>\n",
       "      <td>2</td>\n",
       "      <td>168</td>\n",
       "      <td>62.0</td>\n",
       "      <td>110</td>\n",
       "      <td>80</td>\n",
       "      <td>1</td>\n",
       "      <td>1</td>\n",
       "      <td>0</td>\n",
       "      <td>0</td>\n",
       "      <td>1</td>\n",
       "      <td>0</td>\n",
       "      <td>21.967120</td>\n",
       "    </tr>\n",
       "    <tr>\n",
       "      <th>1</th>\n",
       "      <td>1</td>\n",
       "      <td>20228</td>\n",
       "      <td>1</td>\n",
       "      <td>156</td>\n",
       "      <td>85.0</td>\n",
       "      <td>140</td>\n",
       "      <td>90</td>\n",
       "      <td>3</td>\n",
       "      <td>1</td>\n",
       "      <td>0</td>\n",
       "      <td>0</td>\n",
       "      <td>1</td>\n",
       "      <td>1</td>\n",
       "      <td>34.927679</td>\n",
       "    </tr>\n",
       "    <tr>\n",
       "      <th>2</th>\n",
       "      <td>2</td>\n",
       "      <td>18857</td>\n",
       "      <td>1</td>\n",
       "      <td>165</td>\n",
       "      <td>64.0</td>\n",
       "      <td>130</td>\n",
       "      <td>70</td>\n",
       "      <td>3</td>\n",
       "      <td>1</td>\n",
       "      <td>0</td>\n",
       "      <td>0</td>\n",
       "      <td>0</td>\n",
       "      <td>1</td>\n",
       "      <td>23.507805</td>\n",
       "    </tr>\n",
       "    <tr>\n",
       "      <th>3</th>\n",
       "      <td>3</td>\n",
       "      <td>17623</td>\n",
       "      <td>2</td>\n",
       "      <td>169</td>\n",
       "      <td>82.0</td>\n",
       "      <td>150</td>\n",
       "      <td>100</td>\n",
       "      <td>1</td>\n",
       "      <td>1</td>\n",
       "      <td>0</td>\n",
       "      <td>0</td>\n",
       "      <td>1</td>\n",
       "      <td>1</td>\n",
       "      <td>28.710479</td>\n",
       "    </tr>\n",
       "    <tr>\n",
       "      <th>4</th>\n",
       "      <td>4</td>\n",
       "      <td>17474</td>\n",
       "      <td>1</td>\n",
       "      <td>156</td>\n",
       "      <td>56.0</td>\n",
       "      <td>100</td>\n",
       "      <td>60</td>\n",
       "      <td>1</td>\n",
       "      <td>1</td>\n",
       "      <td>0</td>\n",
       "      <td>0</td>\n",
       "      <td>0</td>\n",
       "      <td>0</td>\n",
       "      <td>23.011177</td>\n",
       "    </tr>\n",
       "  </tbody>\n",
       "</table>\n",
       "</div>"
      ],
      "text/plain": [
       "   id    age  gender  height  weight  ap_hi  ap_lo  cholesterol  gluc  smoke  \\\n",
       "0   0  18393       2     168    62.0    110     80            1     1      0   \n",
       "1   1  20228       1     156    85.0    140     90            3     1      0   \n",
       "2   2  18857       1     165    64.0    130     70            3     1      0   \n",
       "3   3  17623       2     169    82.0    150    100            1     1      0   \n",
       "4   4  17474       1     156    56.0    100     60            1     1      0   \n",
       "\n",
       "   alco  active  cardio        bmi  \n",
       "0     0       1       0  21.967120  \n",
       "1     0       1       1  34.927679  \n",
       "2     0       0       1  23.507805  \n",
       "3     0       1       1  28.710479  \n",
       "4     0       0       0  23.011177  "
      ]
     },
     "execution_count": 181,
     "metadata": {},
     "output_type": "execute_result"
    }
   ],
   "source": [
    "df['bmi'] = df['weight'] / (df['height'] / 100) **2\n",
    "df.head()"
   ]
  },
  {
   "cell_type": "markdown",
   "metadata": {},
   "source": [
    "**Question 1.6. (2 points). Choose the correct statements:**\n",
    "\n",
    "1. Median BMI in the sample is within the range of normal BMI values.\n",
    "2. The BMI for women is on average higher than for men.\n",
    "3. Healthy people have, on average, a higher BMI than the people with CVD.\n",
    "4. For healthy, non-drinking men, BMI is closer to the norm than for healthy, non-drinking women"
   ]
  },
  {
   "cell_type": "code",
   "execution_count": 182,
   "metadata": {},
   "outputs": [
    {
     "name": "stdout",
     "output_type": "stream",
     "text": [
      "average woman bmi: 27.98758344183312\n",
      "average man bmi: 26.754442357289474\n",
      "--------------------\n",
      "average healthy bmi: 26.54817520679475\n",
      "average not healthy bmi: 27.98758344183312\n",
      "--------------------\n",
      "average healthy woman bmi: 26.845406594131518\n",
      "average healthy man bmi: 25.872638075460173\n"
     ]
    }
   ],
   "source": [
    "#1\n",
    "18.5 <= df['bmi'].median() <= 25\n",
    "#2 \n",
    "print('average woman bmi:', df[df['gender'] == 1]['bmi'].mean())\n",
    "print('average man bmi:', df[df['gender'] == 2]['bmi'].mean())\n",
    "#3\n",
    "print('-'*20)\n",
    "print('average healthy bmi:', df[df['cardio'] == 0]['bmi'].mean())\n",
    "print('average not healthy bmi:', df[df['gender'] == 1]['bmi'].mean())\n",
    "print('-'*20)\n",
    "#4\n",
    "print('average healthy woman bmi:', df[(df['gender'] == 1) & (df['cardio'] == 0) & (df['alco'] == 0)]['bmi'].mean())\n",
    "print('average healthy man bmi:', df[(df['gender'] == 2) & (df['cardio'] == 0) & (df['alco'] == 0)]['bmi'].mean())"
   ]
  },
  {
   "cell_type": "markdown",
   "metadata": {},
   "source": [
    "## 1.4. Cleaning data"
   ]
  },
  {
   "cell_type": "markdown",
   "metadata": {},
   "source": [
    "### Task:\n",
    "We can see that the data is not perfect. It contains \"dirt\" and inaccuracies. We'll see this better as we visualize the data.\n",
    "\n",
    "Filter out the following patient segments (we consider these as erroneous data)\n",
    "\n",
    "- diastolic pressure is higher than systolic \n",
    "- height is strictly less than 2.5 percentile (Use `pd.Series.quantile` to compute this value. If you are not familiar with the function, please read the docs.)\n",
    "- height is strictly more than 97.5 percentile\n",
    "- weight is strictly less than 2.5 percentile\n",
    "- weight is strictly more than 97.5 percentile\n",
    "\n",
    "This is not everything that we can do to clean this data, but this is sufficient for now."
   ]
  },
  {
   "cell_type": "code",
   "execution_count": 183,
   "metadata": {},
   "outputs": [
    {
     "data": {
      "text/plain": [
       "0.09819999999999995"
      ]
     },
     "execution_count": 183,
     "metadata": {},
     "output_type": "execute_result"
    }
   ],
   "source": [
    "df.drop(df[df['ap_hi'] < df['ap_lo']].index, inplace=True)\n",
    "h_inf = df['height'].quantile(0.025)\n",
    "h_sup = df['height'].quantile(0.975)\n",
    "w_inf = df['weight'].quantile(0.025)\n",
    "w_sup = df['weight'].quantile(0.975)\n",
    "\n",
    "df.drop(df[(df['height'] < h_inf) | (df['height'] > h_sup)].index, inplace=True)\n",
    "df.drop(df[(df['weight'] < w_inf) | (df['weight'] > w_sup)].index, inplace=True)\n",
    "\n",
    "start_len = 70000\n",
    "1 - len(df) / start_len"
   ]
  },
  {
   "cell_type": "markdown",
   "metadata": {},
   "source": [
    "**Question 1.7. (2 points). What percent of the original data (rounded) did we throw away?**\n",
    "\n",
    "1. 8\n",
    "2. 9\n",
    "3. 10\n",
    "4. 11"
   ]
  },
  {
   "cell_type": "markdown",
   "metadata": {},
   "source": [
    "# Part 2. Visual data analysis\n",
    "\n",
    "## 2.1. Correlation matrix visualization\n",
    "\n",
    "To understand the features better, you can create a matrix of the correlation coefficients between the features. Use the initial dataset (non-filtered).\n",
    "\n",
    "### Task:\n",
    "\n",
    "Plot a correlation matrix using [`heatmap()`](http://seaborn.pydata.org/generated/seaborn.heatmap.html). You can create the matrix using the standard `pandas` tools with the default parameters."
   ]
  },
  {
   "cell_type": "code",
   "execution_count": 184,
   "metadata": {},
   "outputs": [
    {
     "data": {
      "image/png": "[encoded data removed]",
      "text/plain": [
       "<Figure size 792x576 with 2 Axes>"
      ]
     },
     "metadata": {},
     "output_type": "display_data"
    }
   ],
   "source": [
    "sns.heatmap(df.corr());"
   ]
  },
  {
   "cell_type": "markdown",
   "metadata": {},
   "source": [
    "** Question 2.1. (1 point).** Which pair of features has the strongest Pearson's correlation with the *gender* feature?\n",
    "\n",
    "1. Cardio, Cholesterol\n",
    "2. Height, Smoke\n",
    "3. Smoke, Alco\n",
    "4. Height, Weight"
   ]
  },
  {
   "cell_type": "code",
   "execution_count": 185,
   "metadata": {},
   "outputs": [
    {
     "data": {
      "text/plain": [
       "smoke     0.337645\n",
       "height    0.505901\n",
       "Name: gender, dtype: float64"
      ]
     },
     "execution_count": 185,
     "metadata": {},
     "output_type": "execute_result"
    }
   ],
   "source": [
    "#2\n",
    "df.corr()['gender'].sort_values()[-3:-1]"
   ]
  },
  {
   "cell_type": "markdown",
   "metadata": {},
   "source": [
    "## 2.2. Height distribution of men and women\n",
    "\n",
    "From our exploration of the unique values earlier, we know that the gender is encoded by the values *1* and *2*. Although you do not know the mapping of these values to gender, you can figure that out graphically by looking at the mean values of height and weight for each value of the *gender* feature.\n",
    "\n",
    "### Task:\n",
    "\n",
    "Create a violin plot for the height and gender using [`violinplot()`](https://seaborn.pydata.org/generated/seaborn.violinplot.html). Use the parameters:\n",
    "- `hue` to split by gender;\n",
    "- `scale` to evaluate the number of records for each gender.\n",
    "\n",
    "In order for the plot to render correctly, you need to convert your `DataFrame` to *long* format using the `melt()` function from `pandas`. Here is [an example](https://stackoverflow.com/a/41575149/3338479) of this for your reference."
   ]
  },
  {
   "cell_type": "code",
   "execution_count": 186,
   "metadata": {},
   "outputs": [
    {
     "data": {
      "text/plain": [
       "<matplotlib.axes._subplots.AxesSubplot at 0x1af82b06048>"
      ]
     },
     "execution_count": 186,
     "metadata": {},
     "output_type": "execute_result"
    },
    {
     "data": {
      "image/png": "[encoded data removed]",
      "text/plain": [
       "<Figure size 792x576 with 1 Axes>"
      ]
     },
     "metadata": {},
     "output_type": "display_data"
    }
   ],
   "source": [
    "sns.violinplot(y='height', x='gender', data=df)"
   ]
  },
  {
   "cell_type": "markdown",
   "metadata": {},
   "source": [
    "**Question 2.2. (1 point).** Which pair of features has the strongest Spearman correlation?\n",
    "\n",
    "1. Height, Weight\n",
    "2. Age, Weight\n",
    "3. Cholesterol, Gluc\n",
    "4. Cardio, Cholesterol\n",
    "5. Ap_hi, Ap_lo\n",
    "6. Smoke, Alco"
   ]
  },
  {
   "cell_type": "code",
   "execution_count": 187,
   "metadata": {},
   "outputs": [
    {
     "name": "stdout",
     "output_type": "stream",
     "text": [
      "0.2524201196344388\n",
      "0.07002220774737235\n",
      "0.4516681786269665\n",
      "0.21881496904979475\n",
      "0.07264781801010753\n",
      "0.34098043741729084\n"
     ]
    }
   ],
   "source": [
    "print(df.corr()['height']['weight'])\n",
    "print(df.corr()['age']['weight'])\n",
    "print(df.corr()['cholesterol']['gluc'])\n",
    "print(df.corr()['cardio']['cholesterol'])\n",
    "print(df.corr()['ap_hi']['ap_lo'])\n",
    "print(df.corr()['smoke']['alco'])"
   ]
  },
  {
   "cell_type": "markdown",
   "metadata": {},
   "source": [
    "**Question 2.3. (1 point).** Why do these features have strong rank correlation?\n",
    "\n",
    "1. Inaccuracies in the data (data acquisition errors).\n",
    "2. Relation is wrong, these features should not be related.\n",
    "3. Nature of the data."
   ]
  },
  {
   "cell_type": "markdown",
   "metadata": {},
   "source": [
    "## 2.4. Age\n",
    "\n",
    "Previously, we calculated the age of the respondents in years at the moment of examination."
   ]
  },
  {
   "cell_type": "markdown",
   "metadata": {},
   "source": [
    "### Task:\n",
    "\n",
    "Create a *count plot* using [`countplot()`](http://seaborn.pydata.org/generated/seaborn.countplot.html) with the age on the *X* axis and the number of people on the *Y* axis. Your resulting plot should have two columns for each age, corresponding to the number of people for each *cardio* class of that age."
   ]
  },
  {
   "cell_type": "code",
   "execution_count": 188,
   "metadata": {},
   "outputs": [
    {
     "data": {
      "image/png": "[encoded data removed]",
      "text/plain": [
       "<Figure size 792x576 with 1 Axes>"
      ]
     },
     "metadata": {},
     "output_type": "display_data"
    }
   ],
   "source": [
    "sns.countplot(df['age'] // 365);"
   ]
  },
  {
   "cell_type": "markdown",
   "metadata": {},
   "source": [
    "**Question 2.4. (1 point).** What is the smallest age at which the number of people with CVD outnumber the number of people without CVD?\n",
    "\n",
    "1. 44\n",
    "2. 55\n",
    "3. 64\n",
    "4. 70"
   ]
  },
  {
   "cell_type": "code",
   "execution_count": 232,
   "metadata": {},
   "outputs": [
    {
     "name": "stdout",
     "output_type": "stream",
     "text": [
      "55\n"
     ]
    },
    {
     "data": {
      "image/png": "[encoded data removed]",
      "text/plain": [
       "<Figure size 926.375x864 with 1 Axes>"
      ]
     },
     "metadata": {},
     "output_type": "display_data"
    }
   ],
   "source": [
    "df1 = df.copy()\n",
    "df1['age'] //= 365\n",
    "ages = df1[['cardio', 'age', 'id']].groupby(['age', 'cardio']).count().reset_index()\n",
    "for age in ages['age']:\n",
    "    good = ages[(ages['cardio'] == 0) & (ages['age'] == age)]['id']\n",
    "    wick = ages[(ages['cardio'] == 1) & (ages['age'] == age)]['id']\n",
    "\n",
    "    good = good.iloc[0] if len(good) > 0 else 0\n",
    "    wick = wick.iloc[0] if len(wick) > 0 else 0\n",
    "    if wick > good:\n",
    "        print(age)\n",
    "        break\n",
    "\n",
    "sns.factorplot(x='age', y='id', hue='cardio', \n",
    "               data=ages, kind='bar', size=12);"
   ]
  },
  {
   "cell_type": "code",
   "execution_count": null,
   "metadata": {},
   "outputs": [],
   "source": []
  }
 ],
 "metadata": {
  "anaconda-cloud": {},
  "kernelspec": {
   "display_name": "Python 3",
   "language": "python",
   "name": "python3"
  },
  "language_info": {
   "codemirror_mode": {
    "name": "ipython",
    "version": 3
   },
   "file_extension": ".py",
   "mimetype": "text/x-python",
   "name": "python",
   "nbconvert_exporter": "python",
   "pygments_lexer": "ipython3",
   "version": "3.6.6"
  }
 },
 "nbformat": 4,
 "nbformat_minor": 2
}
